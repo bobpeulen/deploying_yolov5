{
 "cells": [
  {
   "cell_type": "markdown",
   "id": "40a9c8b4",
   "metadata": {},
   "source": [
    "<p><img src=\"https://www.oracle.com/a/ocom/img/dc/em/oracle-apex.png\" width=\"200\" align = \"left\"></p>\n",
    "<p><img src=\"https://www.adaption-it.nl/wp-content/uploads/2019/02/Oracle-Logo.png.png\" width=\"200\" align = \"right\"></p>\n",
    "\n",
    "\n",
    "### **<h1 align =\"middle\"><b> Running Object Detection using Yolov5 in APEX and Oracle Data Science! </b></h1>**"
   ]
  },
  {
   "cell_type": "markdown",
   "id": "bce4afce",
   "metadata": {},
   "source": [
    "# **1.1 Create Custom Conda (as explained in the Blog)**"
   ]
  },
  {
   "cell_type": "code",
   "execution_count": null,
   "id": "0da15c4c",
   "metadata": {},
   "outputs": [],
   "source": [
    "### 1. create a custom conda environment. Paste and run the following command in a terminal\n",
    "- odsc conda create -n object_detection_apex_conda -s object_detection_apex_conda -v 1.0\n",
    "\n",
    "### 2. activate the newly created custom conda. Paste and run the following command in a terminal.\n",
    "conda activate /home/datascience/conda/object_detection_apex_conda"
   ]
  },
  {
   "cell_type": "markdown",
   "id": "90bfad90",
   "metadata": {},
   "source": [
    "---"
   ]
  },
  {
   "cell_type": "markdown",
   "id": "37ed9a6d",
   "metadata": {},
   "source": [
    "> # **Important notes:**"
   ]
  },
  {
   "cell_type": "markdown",
   "id": "fb6b5d0e",
   "metadata": {},
   "source": [
    "> ### *1. Make sure to change your kernel to **\"object_detection_apex_conda\"** before running the below cells!*"
   ]
  },
  {
   "cell_type": "markdown",
   "id": "ecab3af5",
   "metadata": {},
   "source": [
    "> ### 2. The notebook assumes you are working in the home directory **(/home/datascience)**"
   ]
  },
  {
   "cell_type": "markdown",
   "id": "54c2aa6b",
   "metadata": {},
   "source": [
    "> ### 3. The notebook uses a specific bucket name and namespace. Make sure to replace your bucket name and namespace each time you see **\"YOUR_BUCKET_NAME\"** and **\"YOUR_NAMESPACE\"** "
   ]
  },
  {
   "cell_type": "markdown",
   "id": "e9210697",
   "metadata": {},
   "source": [
    "> ### 4. The images used are in the **\".jpg\"** format"
   ]
  },
  {
   "cell_type": "markdown",
   "id": "e8385d3f",
   "metadata": {},
   "source": [
    "---"
   ]
  },
  {
   "cell_type": "markdown",
   "id": "fd8da56c",
   "metadata": {},
   "source": [
    "# **1.2 Clone the Yolo5 github repo and perform installs**"
   ]
  },
  {
   "cell_type": "markdown",
   "id": "d7625071",
   "metadata": {},
   "source": [
    "### **1.2.1 Clone Yolov5 Github and install dependencies**"
   ]
  },
  {
   "cell_type": "code",
   "execution_count": null,
   "id": "76593d1e",
   "metadata": {},
   "outputs": [],
   "source": [
    "!git clone https://github.com/ultralytics/yolov5 /home/datascience/conda/object_detection_apex_conda/yolov5 # this will clone the entire github repo in the same folder as your notebook is in.\n",
    "!cd /home/datascience/conda/object_detection_apex_conda/yolov5 #this will step into the sub-directory yolov5\n",
    "!pip install -r yolov5/requirements.txt  #this will install all the needed packages to run yolov5 "
   ]
  },
  {
   "cell_type": "markdown",
   "id": "bdc76a8f",
   "metadata": {},
   "source": [
    "### **1.2.2 Additional installs**"
   ]
  },
  {
   "cell_type": "code",
   "execution_count": null,
   "id": "6120884c",
   "metadata": {},
   "outputs": [],
   "source": [
    "!conda install pytorch torchvision -c pytorch -y\n",
    "!pip install opencv-python-headless\n",
    "!python3 -m pip install oracle-ads[all-optional]\n",
    "!pip install ipywidgets\n",
    "!pip install ocifs"
   ]
  },
  {
   "cell_type": "markdown",
   "id": "9388ca4e",
   "metadata": {},
   "source": [
    "### **1.2.3 Test the Yolov5 on a sample image**"
   ]
  },
  {
   "cell_type": "code",
   "execution_count": null,
   "id": "f1de4da6",
   "metadata": {},
   "outputs": [],
   "source": [
    "import torch\n",
    "from PIL import Image\n",
    "\n",
    "#run Yolov5 model on a sample image\n",
    "!python /home/datascience/conda/object_detection_apex_conda/yolov5/detect.py --weights yolov5s.pt --img 640 --conf 0.25 --source /home/datascience/conda/object_detection_apex_conda/yolov5/data/images/zidane.jpg\n",
    "\n",
    "#display the result. The below only works on the first run. Next runs are generated as exp2, exp3, exp4 and so on.\n",
    "image = Image.open('/home/datascience/conda/object_detection_apex_conda/yolov5/runs/detect/exp/zidane.jpg')\n",
    "image.show()"
   ]
  },
  {
   "cell_type": "markdown",
   "id": "a68e34e8",
   "metadata": {},
   "source": [
    "# **1.3 Publish Conda to Object Storage**"
   ]
  },
  {
   "cell_type": "markdown",
   "id": "e673f9ff",
   "metadata": {},
   "source": [
    "> **NOTE! Replace \"YOUR_BUCKET_NAME\" and \"YOUR_NAMESPACE\" with your own bucket name and namespace respectively in the below cell**"
   ]
  },
  {
   "cell_type": "code",
   "execution_count": null,
   "id": "c2488580",
   "metadata": {},
   "outputs": [],
   "source": [
    "#1. Establish connection between notebook session and your newly created bucket.\n",
    "!odsc conda init -b <YOUR_BUCKET_NAME> -n <YOUR_NAMESPACE> -a resource_principal"
   ]
  },
  {
   "cell_type": "code",
   "execution_count": null,
   "id": "67086fd2",
   "metadata": {},
   "outputs": [],
   "source": [
    "#2. Publish the 'object_detection_apex_conda' to the bucket. Make sure the bucket has no other custom conda environment, this will partly be overwritten\n",
    "!odsc conda publish -s object_detection_apex_conda"
   ]
  },
  {
   "cell_type": "markdown",
   "id": "8b62a609",
   "metadata": {},
   "source": [
    "# **2. Create Model artifacts and save to the Model Catalog**"
   ]
  },
  {
   "cell_type": "markdown",
   "id": "f7611109",
   "metadata": {},
   "source": [
    "## **2.1 Create Model artifacts**"
   ]
  },
  {
   "cell_type": "code",
   "execution_count": null,
   "id": "ac245202",
   "metadata": {},
   "outputs": [],
   "source": [
    "from ads.model.framework.tensorflow_model import TensorFlowModel\n",
    "from ads.common.model_metadata import UseCaseType\n",
    "from ads.common.model_artifact import ModelArtifact\n",
    "from ads.common.model_export_util import prepare_generic_model\n",
    "import os"
   ]
  },
  {
   "cell_type": "markdown",
   "id": "d8810ae7",
   "metadata": {},
   "source": [
    "> **NOTE! Replace \"YOUR_BUCKET_NAME\" and \"YOUR_NAMESPACE\" with your own bucket name and namespace respectively in the below cell**"
   ]
  },
  {
   "cell_type": "code",
   "execution_count": null,
   "id": "03b30bda",
   "metadata": {},
   "outputs": [],
   "source": [
    "#1. Establish path to artifacts and conda slug\n",
    "path_to_artifacts = '/home/datascience/model_artifacts'\n",
    "conda_env = 'oci://<YOUR_BUCKET_NAME>@<YOUR_NAMESPACE>/conda_environments/cpu/object_detection_apex_conda/1/object_detection_apex_conda'\n",
    "\n",
    "#2. create default artifacts\n",
    "artifact = prepare_generic_model(path_to_artifacts, fn_artifact_files_included=False, force_overwrite=True, inference_conda_env=conda_env)"
   ]
  },
  {
   "cell_type": "markdown",
   "id": "e709aa92",
   "metadata": {},
   "source": [
    "> **NOTE! Replace \"YOUR_BUCKET_NAME\" and \"YOUR_NAMESPACE\" with your own bucket name and namespace !!4 times!! respectively in the below cell**"
   ]
  },
  {
   "cell_type": "code",
   "execution_count": null,
   "id": "3cfc153b",
   "metadata": {},
   "outputs": [],
   "source": [
    "%%writefile \"{path_to_artifacts}/score.py\"\n",
    "import os\n",
    "import cv2\n",
    "import sys\n",
    "import torch\n",
    "import numpy as np\n",
    "import pandas as pd\n",
    "import shutil\n",
    "import ocifs\n",
    "from ocifs import OCIFileSystem\n",
    "import glob\n",
    "import ads\n",
    "import urllib\n",
    "from yolov5 import models, utils \n",
    "\n",
    "def load_model():\n",
    "    class DummyModel:\n",
    "        def __init__(self):\n",
    "            pass\n",
    "    return DummyModel()\n",
    "\n",
    "def predict(data, model=load_model()):\n",
    "    \n",
    "    x = data # this example does not use a json payload. But the JSON payload could be added to be processed as 'Data'\n",
    "    \n",
    "    #set authentication to resource principal\n",
    "    ads.set_auth(auth='resource_principal')\n",
    "\n",
    "    ########################### ########################### ########################### ########################### \n",
    "    ########################### \n",
    "    ########################### Input and output bucket\n",
    "    ########################### \n",
    "    ########################### ########################### ########################### ########################### \n",
    "    \n",
    "    input_bucket = \"oci://<YOUR_BUCKET_NAME>@<YOUR_NAMESPACE>/input_image/\"\n",
    "    output_bucket = \"oci://<YOUR_BUCKET_NAME>@<YOUR_NAMESPACE>/output_image/\"\n",
    "       \n",
    "    ########################### ########################### ########################### ########################### \n",
    "    ########################### \n",
    "    ########################### Create local folder when the model is deployed\n",
    "    ########################### \n",
    "    ########################### ########################### ########################### ########################### \n",
    "\n",
    "    #input image folder\n",
    "    path_input_image_locally = \"/home/datascience/input_image\" \n",
    "    \n",
    "    #delete folder when exists\n",
    "    if os.path.exists(path_input_image_locally):\n",
    "        shutil.rmtree(path_input_image_locally)\n",
    "    \n",
    "    #make as new folder\n",
    "    if not os.path.exists(path_input_image_locally):         \n",
    "        os.makedirs(path_input_image_locally)\n",
    "    \n",
    "    ## the same for output_image locally. Folder will be generated during model inference\n",
    "    path_output_image_locally = \"/home/datascience/output_image\"\n",
    "    \n",
    "    #delete folder when exists\n",
    "    if os.path.exists(path_output_image_locally):\n",
    "        shutil.rmtree(path_output_image_locally)\n",
    "\n",
    "    ########################### ########################### ########################### ########################### \n",
    "    ########################### \n",
    "    ########################### Copy input images from bucket to local folder ENV_INPUT_IMAGE\n",
    "    ########################### \n",
    "    ########################### ########################### ########################### ########################### \n",
    "\n",
    "    fs = ocifs.OCIFileSystem()\n",
    "    fs.invalidate_cache(\"oci://<YOUR_BUCKET_NAME>@<YOUR_NAMESPACE>/input_image/\")\n",
    "    fs.get(\"oci://<YOUR_BUCKET_NAME>@<YOUR_NAMESPACE>/input_image/*.jpg\", \"/home/datascience/input_image/\")\n",
    "    \n",
    "    ########################### ########################### ########################### ########################### \n",
    "    ########################### \n",
    "    ########################### Run Yolov5 on the image\n",
    "    ########################### \n",
    "    ########################### ########################### ########################### ########################### \n",
    "    \n",
    "    ##get the image name\n",
    "    for file in os.listdir(path_input_image_locally):\n",
    "        if file.endswith(\".jpg\"):\n",
    "            image_name = (os.path.join(path_input_image_locally, file))\n",
    "            image_name_input = (file)\n",
    "            \n",
    "    #run the yolov5 on the image. Saves the output image to the \"../output_image/\" local folder    \n",
    "    # Load model\n",
    "    model = torch.hub.load(\"./yolov5\", 'custom', path = './yolov5s.pt', source='local', force_reload=True)  #when loading from local directoy\n",
    "   \n",
    "    #model inference and save results to local folder\n",
    "    results = model(image_name)\n",
    "    results.save(save_dir=path_output_image_locally, exist_ok=False)\n",
    "\n",
    "    #get the location of the output_image bucket and the image\n",
    "    ENV_OUTPUT_IMAGE = os.environ.get(\"ENV_OUTPUT_IMAGE\", output_bucket)\n",
    "    local_output_image_path = os.path.join(path_output_image_locally + \"/\" + image_name_input)\n",
    "    fs = OCIFileSystem()\n",
    "    fs.invalidate_cache(input_bucket)\n",
    "    \n",
    "    print(local_output_image_path)\n",
    "\n",
    "    #copy from the local folder to the bucket folder\n",
    "    with open(local_output_image_path, 'rb') as f:\n",
    "        with fs.open(ENV_OUTPUT_IMAGE + os.path.basename(local_output_image_path), 'wb') as file_out:\n",
    "            file_out.write(f.read())\n",
    "            \n",
    "    #delete input image from the input bucket\n",
    "    fs = ocifs.OCIFileSystem()\n",
    "    fs.invalidate_cache(output_bucket)\n",
    "    delete_object = os.path.join(input_bucket, image_name_input)\n",
    "    fs.rm(delete_object, recursive=True)\n",
    "\n",
    "    return \"Your image has been processed and pushed to the output bucket!\""
   ]
  },
  {
   "cell_type": "markdown",
   "id": "6166f9fc",
   "metadata": {},
   "source": [
    "> **NOTE! Replace \"YOUR_BUCKET_NAME\" and \"YOUR_NAMESPACE\" with your own bucket name and namespace respectively in the below cell**"
   ]
  },
  {
   "cell_type": "code",
   "execution_count": null,
   "id": "68a677a8",
   "metadata": {},
   "outputs": [],
   "source": [
    "%%writefile \"{path_to_artifacts}/runtime.yaml\"\n",
    "# Model runtime environment\n",
    "MODEL_ARTIFACT_VERSION: '3.0'\n",
    "MODEL_DEPLOYMENT:\n",
    "  INFERENCE_CONDA_ENV:\n",
    "    INFERENCE_ENV_PATH: oci://<YOUR_BUCKET_NAME>@<YOUR_NAMESPACE>/conda_environments/cpu/object_detection_apex_conda/1/object_detection_apex_conda\n",
    "    INFERENCE_PYTHON_VERSION: 3.8.12\n",
    "MODEL_PROVENANCE:\n",
    "  PROJECT_OCID: ocid1.datascienceproject.oc1.eu-frankfurt-1.amaaaaaangencdyaik5ssdqk4as2bhldxprh7vnqpk7yycsm7vymd344cgua\n",
    "  TENANCY_OCID: ocid1.tenancy.oc1..aaaaaaaabu5fgingcjq3vc7djuwsdcutdxs4gsws6h4kfoldqpjuggxprgoa\n",
    "  TRAINING_COMPARTMENT_OCID: ocid1.compartment.oc1..aaaaaaaae3n6r6hrjipbap2hojicrsvkzatrtlwvsyrpyjd7wjnw4za3m75q\n",
    "  TRAINING_CONDA_ENV:\n",
    "    TRAINING_ENV_PATH: oci://<YOUR_BUCKET_NAME>@<YOUR_NAMESPACE>/conda_environments/cpu/object_detection_apex_conda/1/object_detection_apex_conda\n",
    "    TRAINING_ENV_SLUG: object_detection_apex_conda\n",
    "    TRAINING_ENV_TYPE: published\n",
    "    TRAINING_PYTHON_VERSION: 3.8.12\n",
    "  TRAINING_REGION: eu-frankfurt-1\n",
    "  TRAINING_RESOURCE_OCID: ocid1.datasciencenotebooksession.oc1.eu-frankfurt-1.amaaaaaangencdya3hrsuqabjsnnbwxegpvmo2r3xwl3bcwr2okp4fegouna\n",
    "  USER_OCID: ocid1.saml2idp.oc1..aaaaaaaar3ydw5hoiob7dfjzoom2dvbhqkkd5fat6m7upe72emlsxhsfrbfa/bob.peulen@oracle.com\n",
    "  VM_IMAGE_INTERNAL_ID: NB1313-DC257-VMP58-VMA1524-JL2.2.6"
   ]
  },
  {
   "cell_type": "markdown",
   "id": "966c197d",
   "metadata": {},
   "source": [
    "## **2.2 Copy the Yolov5 library into the model artifacts**"
   ]
  },
  {
   "cell_type": "code",
   "execution_count": null,
   "id": "5d246ea3",
   "metadata": {},
   "outputs": [],
   "source": [
    "#1. Copy the entire yolov5 folder into the model artifacts\n",
    "!cp -R /home/datascience/conda/object_detection_apex_conda/yolov5 /home/datascience/model_artifacts\n",
    "\n",
    "#2. When running step 1.2.3, the 'yolov5s.pt' file was created and added to your /home/datascience (./ or root) folder. We copy this .pt (the weights) in the model artifacts\n",
    "!cp -R /home/datascience/yolov5s.pt /home/datascience/model_artifacts/\n",
    "\n",
    "#3. Change access rights of the 'yolov5s.pt'. The instance running the deployed model needs to access it.\n",
    "!chmod 777 /home/datascience/model_artifacts/yolov5s.pt"
   ]
  },
  {
   "cell_type": "code",
   "execution_count": 4,
   "id": "2bbcc362",
   "metadata": {},
   "outputs": [],
   "source": [
    "#4. Optional. You can check the access rights of the 'yolov5s.pt' file in the model_artifacts folder using the below. It should be \"-rwxrwxrwx.\"\n",
    "# !ls -l /home/datascience/model_artifacts/yolov5s.pt"
   ]
  },
  {
   "cell_type": "markdown",
   "id": "03292986",
   "metadata": {},
   "source": [
    "## **2.3 Check all model artifacts**"
   ]
  },
  {
   "cell_type": "code",
   "execution_count": null,
   "id": "e65f5e87",
   "metadata": {},
   "outputs": [],
   "source": [
    "#all checks should be passed\n",
    "artifact.introspect()"
   ]
  },
  {
   "cell_type": "markdown",
   "id": "9237ef93",
   "metadata": {},
   "source": [
    "## **2.4 Save model artifacts to the Model Catalog**"
   ]
  },
  {
   "cell_type": "code",
   "execution_count": null,
   "id": "df165ab2",
   "metadata": {},
   "outputs": [],
   "source": [
    "# Saving the model artifact to the model catalog. You can check the model added to your 'Models' in your Data Science Project.\n",
    "catalog_entry = artifact.save(display_name='object_detection', description='object_detection', timeout=600)\n",
    "catalog_entry.id"
   ]
  },
  {
   "cell_type": "markdown",
   "id": "bee19c85",
   "metadata": {},
   "source": [
    "# **3. Create Model Deployment and test REST API**"
   ]
  },
  {
   "cell_type": "code",
   "execution_count": null,
   "id": "c6e0d2c7",
   "metadata": {},
   "outputs": [],
   "source": [
    "import oci \n",
    "from oci.data_science import DataScienceClient, DataScienceClientCompositeOperations\n",
    "\n",
    "from oci.data_science.models import ModelConfigurationDetails, InstanceConfiguration, \\\n",
    "                                    FixedSizeScalingPolicy, CategoryLogDetails, LogDetails, \\\n",
    "                                    SingleModelDeploymentConfigurationDetails, CreateModelDeploymentDetails\n",
    "\n",
    "auth = oci.auth.signers.get_resource_principals_signer()\n",
    "data_science = DataScienceClient({}, signer=auth)"
   ]
  },
  {
   "cell_type": "markdown",
   "id": "1d2d4d92",
   "metadata": {},
   "source": [
    "## **3.1 Model Deployment configuration**"
   ]
  },
  {
   "cell_type": "code",
   "execution_count": null,
   "id": "3068bf84",
   "metadata": {},
   "outputs": [],
   "source": [
    "#You can change the display_name, description and instance_shape_name to your liking.\n",
    "model_configuration_details_object = ModelConfigurationDetails(model_id=catalog_entry.id,\n",
    "                                                               instance_configuration=InstanceConfiguration(instance_shape_name='VM.Standard2.1'),\n",
    "                                                               scaling_policy=FixedSizeScalingPolicy(instance_count=1),\n",
    "                                                               bandwidth_mbps=20)\n",
    "\n",
    "single_model_config = SingleModelDeploymentConfigurationDetails(deployment_type='SINGLE_MODEL', model_configuration_details=model_configuration_details_object)\n",
    "\n",
    "logs_configuration_details_object = {}\n",
    "\n",
    "model_deploy_configuration = CreateModelDeploymentDetails(display_name='object_detection',\n",
    "                                                          description='object_detection',\n",
    "                                                          project_id=os.environ['PROJECT_OCID'],\n",
    "                                                          compartment_id=os.environ['NB_SESSION_COMPARTMENT_OCID'],\n",
    "                                                          model_deployment_configuration_details=single_model_config,\n",
    "                                                          category_log_details=logs_configuration_details_object)"
   ]
  },
  {
   "cell_type": "markdown",
   "id": "216c638b",
   "metadata": {},
   "source": [
    "## **3.2 Creating a model deployment. This action takes a few minutes**"
   ]
  },
  {
   "cell_type": "code",
   "execution_count": null,
   "id": "4cde41ab",
   "metadata": {},
   "outputs": [],
   "source": [
    "data_science_composite = DataScienceClientCompositeOperations(data_science)\n",
    "model_deployment = data_science_composite.create_model_deployment_and_wait_for_state(model_deploy_configuration, \n",
    "                                                                                     wait_for_states=[\"SUCCEEDED\", \"FAILED\"])"
   ]
  },
  {
   "cell_type": "markdown",
   "id": "f68a0f82",
   "metadata": {},
   "source": [
    "## **3.3 Testing the deployed model using the REST API**"
   ]
  },
  {
   "cell_type": "markdown",
   "id": "d027ba5a",
   "metadata": {},
   "source": [
    "> # **!**"
   ]
  },
  {
   "cell_type": "markdown",
   "id": "ddeea459",
   "metadata": {},
   "source": [
    "> #### Before you run the below cell, make sure to upload one .jpg image you would like to run Object Detection in the **\"input_image\"** bucket"
   ]
  },
  {
   "cell_type": "markdown",
   "id": "aaf4e27b",
   "metadata": {},
   "source": [
    "> #### Fetch your HTTP Endpoint from your deployed model. In the Data Science Project, click on \"Model Deployments\". Click on your deployed model and select \"Invoking your model\". Copy and paste the HTTP endpoint from your deployed model in the below cell in uri = \"<_YOUR_HTTP_ENDPOINT_>\""
   ]
  },
  {
   "cell_type": "markdown",
   "id": "63c33d0a",
   "metadata": {},
   "source": [
    "> # **!**"
   ]
  },
  {
   "cell_type": "code",
   "execution_count": 5,
   "id": "069eb69d",
   "metadata": {},
   "outputs": [
    {
     "name": "stdout",
     "output_type": "stream",
     "text": [
      "<Response [200]>\n",
      "CPU times: user 23.1 ms, sys: 5.87 ms, total: 29 ms\n",
      "Wall time: 2.57 s\n"
     ]
    }
   ],
   "source": [
    "%%time\n",
    "import requests\n",
    "import oci\n",
    "from oci.signer import Signer\n",
    "import json\n",
    "\n",
    "# REST API. In the below uri = f\"\", paste your HTTP Endpoint from the deployed model. Delete the short the example\n",
    "uri = f\"https://modeldeployment.eu-frankfurt-1.xxxxxxxxxxx/predict\"\n",
    "\n",
    "#dummy data, this could also be a JSON input. But the model expects some input.\n",
    "data = \"x\"   \n",
    "\n",
    "#authentication using resource principal\n",
    "auth = oci.auth.signers.get_resource_principals_signer()\n",
    "\n",
    "#make api call\n",
    "response = requests.post(uri, json=data, auth=auth)\n",
    "print(response)"
   ]
  },
  {
   "cell_type": "code",
   "execution_count": 6,
   "id": "924e6a81",
   "metadata": {},
   "outputs": [
    {
     "data": {
      "text/plain": [
       "b'\"Your image has been processed and pushed to the output bucket!\"'"
      ]
     },
     "execution_count": 6,
     "metadata": {},
     "output_type": "execute_result"
    }
   ],
   "source": [
    "#review the response. Should be \"Your image has been processed and pushed to the output bucket!\"\n",
    "response.content"
   ]
  },
  {
   "cell_type": "code",
   "execution_count": null,
   "id": "afc38c96",
   "metadata": {},
   "outputs": [],
   "source": [
    "#the end"
   ]
  }
 ],
 "metadata": {
  "kernelspec": {
   "display_name": "Python [conda env:object_detection_apex_conda]",
   "language": "python",
   "name": "conda-env-object_detection_apex_conda-py"
  },
  "language_info": {
   "codemirror_mode": {
    "name": "ipython",
    "version": 3
   },
   "file_extension": ".py",
   "mimetype": "text/x-python",
   "name": "python",
   "nbconvert_exporter": "python",
   "pygments_lexer": "ipython3",
   "version": "3.8.12"
  }
 },
 "nbformat": 4,
 "nbformat_minor": 5
}
